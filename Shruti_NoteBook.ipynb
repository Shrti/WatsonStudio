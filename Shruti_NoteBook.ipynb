{
    "nbformat_minor": 1, 
    "cells": [
        {
            "execution_count": 1, 
            "cell_type": "code", 
            "metadata": {}, 
            "outputs": [
                {
                    "execution_count": 1, 
                    "metadata": {}, 
                    "data": {
                        "text/plain": "[Row(Rank='1', Country='Cambodia', (%)='0.00', Date of Information='2011 est.'),\n Row(Rank='2', Country='Qatar', (%)='0.40', Date of Information='2014 est.'),\n Row(Rank='3', Country='Guernsey', (%)='0.90', Date of Information='March 2006 est.'),\n Row(Rank='4', Country='Thailand', (%)='1.00', Date of Information='2014 est.'),\n Row(Rank='5', Country='Belarus', (%)='1.00', Date of Information='2009 est.')]"
                    }, 
                    "output_type": "execute_result"
                }
            ], 
            "source": "# The code was removed by DSX for sharing."
        }, 
        {
            "execution_count": null, 
            "cell_type": "code", 
            "metadata": {}, 
            "outputs": [], 
            "source": ""
        }
    ], 
    "metadata": {
        "kernelspec": {
            "display_name": "Python 3.5 with Spark 2.1", 
            "name": "python3-spark21", 
            "language": "python"
        }, 
        "language_info": {
            "mimetype": "text/x-python", 
            "nbconvert_exporter": "python", 
            "version": "3.5.4", 
            "name": "python", 
            "file_extension": ".py", 
            "pygments_lexer": "ipython3", 
            "codemirror_mode": {
                "version": 3, 
                "name": "ipython"
            }
        }
    }, 
    "nbformat": 4
}